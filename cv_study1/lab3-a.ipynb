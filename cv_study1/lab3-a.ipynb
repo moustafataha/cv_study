{
 "cells": [
  {
   "cell_type": "code",
   "execution_count": 8,
   "id": "9cf143c6",
   "metadata": {},
   "outputs": [
    {
     "name": "stdout",
     "output_type": "stream",
     "text": [
      "plz enter 1st num: 5\n",
      "plz enter 2nd num: 6\n",
      "plz enter 3rd num: 9\n",
      "Max =  9\n"
     ]
    }
   ],
   "source": [
    "def max_two_num(num1,num2):\n",
    "    if num1 > num2:\n",
    "        return (num1)\n",
    "    else:\n",
    "        return (num2)\n",
    "\n",
    "def max_three_num(num1,num2,num3):\n",
    "    m = max_two_num(num1,num2)\n",
    "    fin = max_two_num(m,num3)\n",
    "    return (fin)\n",
    "\n",
    "num1 = input(\"plz enter 1st num: \")\n",
    "num2 = input(\"plz enter 2nd num: \")\n",
    "num3 = input(\"plz enter 3rd num: \")\n",
    "\n",
    "res = max_three_num(num1,num2,num3)\n",
    "print (\"Max = \", res)"
   ]
  },
  {
   "cell_type": "code",
   "execution_count": null,
   "id": "4aaeda43",
   "metadata": {},
   "outputs": [],
   "source": []
  },
  {
   "cell_type": "code",
   "execution_count": null,
   "id": "cab6c24c",
   "metadata": {},
   "outputs": [],
   "source": []
  }
 ],
 "metadata": {
  "kernelspec": {
   "display_name": "Python 3 (ipykernel)",
   "language": "python",
   "name": "python3"
  },
  "language_info": {
   "codemirror_mode": {
    "name": "ipython",
    "version": 3
   },
   "file_extension": ".py",
   "mimetype": "text/x-python",
   "name": "python",
   "nbconvert_exporter": "python",
   "pygments_lexer": "ipython3",
   "version": "3.9.7"
  }
 },
 "nbformat": 4,
 "nbformat_minor": 5
}
