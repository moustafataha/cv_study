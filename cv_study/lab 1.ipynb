{
 "cells": [
  {
   "cell_type": "code",
   "execution_count": 1,
   "id": "fb933faf",
   "metadata": {},
   "outputs": [
    {
     "name": "stdout",
     "output_type": "stream",
     "text": [
      "plz enter 1st number: 10\n",
      "plz enter 2nd number: 5\n",
      "sum =  15.0\n",
      "sub =  5.0\n",
      "multiplication =  50.0\n"
     ]
    }
   ],
   "source": [
    "# read 1st number\n",
    "num1 = input(\"plz enter 1st number: \")\n",
    "# read 2nd number\n",
    "num2 = input(\"plz enter 2nd number: \")\n",
    "# convert numbers to float\n",
    "num1 = float(num1)\n",
    "num2 = float(num2)\n",
    "# print sum\n",
    "print (\"sum = \" , num1 + num2)\n",
    "# print sub\n",
    "print (\"sub = \" , num1 - num2)\n",
    "# print mul\n",
    "print (\"multiplication = \" , num1 * num2)"
   ]
  },
  {
   "cell_type": "code",
   "execution_count": null,
   "id": "f201be59",
   "metadata": {},
   "outputs": [],
   "source": []
  }
 ],
 "metadata": {
  "kernelspec": {
   "display_name": "Python 3 (ipykernel)",
   "language": "python",
   "name": "python3"
  },
  "language_info": {
   "codemirror_mode": {
    "name": "ipython",
    "version": 3
   },
   "file_extension": ".py",
   "mimetype": "text/x-python",
   "name": "python",
   "nbconvert_exporter": "python",
   "pygments_lexer": "ipython3",
   "version": "3.9.7"
  }
 },
 "nbformat": 4,
 "nbformat_minor": 5
}
