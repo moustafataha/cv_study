{
 "cells": [
  {
   "cell_type": "code",
   "execution_count": null,
   "id": "9dbcc7fa",
   "metadata": {},
   "outputs": [],
   "source": [
    "# read 1st number\n",
    "num1 = input(\"plz enter 1st number: \")\n",
    "# read 2nd number\n",
    "num2 = input(\"plz enter 2nd number: \")\n",
    "op = input(\"plz enter operator: \")\n",
    "# convert numbers to float\n",
    "num1 = float(num1)\n",
    "num2 = float(num2)\n",
    "res = 0\n",
    "# descision tree\n",
    "if op == \"+\":\n",
    "    res = num1 + num2\n",
    "    print (\"Sum = \", res)\n",
    "    \n",
    "elif op == \"-\":\n",
    "    res = num1 - num2\n",
    "    print (\"Sub = \", res)\n",
    "    \n",
    "elif op == \"*\" or op == \"x\" or op == \"X\":\n",
    "    res = num1 * num2\n",
    "    print (\"Multiplication = \", res)\n",
    "    \n",
    "elif op == \"/\" or op == \"\\\\\":\n",
    "    if num2 == 0:\n",
    "        print(\"error\")\n",
    "    else:\n",
    "        res = num1 / num2\n",
    "        print (\"Division = \", res)"
   ]
  }
 ],
 "metadata": {
  "kernelspec": {
   "display_name": "Python 3 (ipykernel)",
   "language": "python",
   "name": "python3"
  },
  "language_info": {
   "codemirror_mode": {
    "name": "ipython",
    "version": 3
   },
   "file_extension": ".py",
   "mimetype": "text/x-python",
   "name": "python",
   "nbconvert_exporter": "python",
   "pygments_lexer": "ipython3",
   "version": "3.9.7"
  }
 },
 "nbformat": 4,
 "nbformat_minor": 5
}
