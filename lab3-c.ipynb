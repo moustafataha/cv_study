{
 "cells": [
  {
   "cell_type": "code",
   "execution_count": 21,
   "id": "f2e8e0c9",
   "metadata": {},
   "outputs": [
    {
     "name": "stdout",
     "output_type": "stream",
     "text": [
      "plz enter a number: 9\n",
      "9  is  not a prime number\n"
     ]
    }
   ],
   "source": [
    "def primnum(num):\n",
    "    status = False\n",
    "    if num > 1:\n",
    "        for n in range (2,num):\n",
    "            if (num % n) == 0:\n",
    "                status = True\n",
    "                \n",
    "           \n",
    "        \n",
    "        if status:\n",
    "            \n",
    "            print (num, \" is  not a prime number\")\n",
    "        else:\n",
    "                print (num, \" is a prime number\")\n",
    "                \n",
    "x = input(\"plz enter a number: \")\n",
    "x = int(x)\n",
    "primnum(x)"
   ]
  },
  {
   "cell_type": "code",
   "execution_count": null,
   "id": "1a648b48",
   "metadata": {},
   "outputs": [],
   "source": []
  }
 ],
 "metadata": {
  "kernelspec": {
   "display_name": "Python 3 (ipykernel)",
   "language": "python",
   "name": "python3"
  },
  "language_info": {
   "codemirror_mode": {
    "name": "ipython",
    "version": 3
   },
   "file_extension": ".py",
   "mimetype": "text/x-python",
   "name": "python",
   "nbconvert_exporter": "python",
   "pygments_lexer": "ipython3",
   "version": "3.9.7"
  }
 },
 "nbformat": 4,
 "nbformat_minor": 5
}
