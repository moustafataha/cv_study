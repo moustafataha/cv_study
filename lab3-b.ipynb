{
 "cells": [
  {
   "cell_type": "code",
   "execution_count": 3,
   "id": "d68836c4",
   "metadata": {},
   "outputs": [
    {
     "name": "stdout",
     "output_type": "stream",
     "text": [
      "[1, 3, 5, 4, 2, 7, 8, 9, 13, 10, 11, 55]\n"
     ]
    }
   ],
   "source": [
    "def uniquelist (nonunique):\n",
    "    res = []\n",
    "    for n in nonunique:\n",
    "        if n not in res:\n",
    "            res.append(n)\n",
    "    return (res)\n",
    "\n",
    "numbers = [1,3,5,4,5,3,2,7,8,9,7,1,13,10,11,55]\n",
    "h = uniquelist(numbers)\n",
    "print (h)"
   ]
  },
  {
   "cell_type": "code",
   "execution_count": null,
   "id": "cf1fcedc",
   "metadata": {},
   "outputs": [],
   "source": []
  }
 ],
 "metadata": {
  "kernelspec": {
   "display_name": "Python 3 (ipykernel)",
   "language": "python",
   "name": "python3"
  },
  "language_info": {
   "codemirror_mode": {
    "name": "ipython",
    "version": 3
   },
   "file_extension": ".py",
   "mimetype": "text/x-python",
   "name": "python",
   "nbconvert_exporter": "python",
   "pygments_lexer": "ipython3",
   "version": "3.9.7"
  }
 },
 "nbformat": 4,
 "nbformat_minor": 5
}
