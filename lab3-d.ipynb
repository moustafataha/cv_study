{
 "cells": [
  {
   "cell_type": "code",
   "execution_count": 17,
   "id": "f85398bd",
   "metadata": {},
   "outputs": [
    {
     "name": "stdout",
     "output_type": "stream",
     "text": [
      "plz enter a string: moustafa\n",
      "your string is:  ['m', 'o', 'u', 's', 't', 'a', 'f', 'a']\n",
      "number of letters are:  8\n",
      "Your string reverse is:  ['a', 'f', 'a', 't', 's', 'u', 'o', 'm']\n"
     ]
    }
   ],
   "source": [
    "def revstring(st):\n",
    "    x = []\n",
    "    xrev = []\n",
    "    for letter in st:\n",
    "        x.append(letter)\n",
    "    a = 0\n",
    "    y = len(x)\n",
    "    for l in x:\n",
    "        if y >= a:\n",
    "            \n",
    "            xrev.append(x[y-1-a])\n",
    "            a +=1\n",
    "    print (\"your string is: \",x)\n",
    "    print (\"number of letters are: \",y)\n",
    "    print (\"Your string reverse is: \",xrev)\n",
    "        \n",
    "z = input(\"plz enter a string: \")\n",
    "revstring(z)"
   ]
  },
  {
   "cell_type": "code",
   "execution_count": null,
   "id": "7392473b",
   "metadata": {},
   "outputs": [],
   "source": []
  }
 ],
 "metadata": {
  "kernelspec": {
   "display_name": "Python 3 (ipykernel)",
   "language": "python",
   "name": "python3"
  },
  "language_info": {
   "codemirror_mode": {
    "name": "ipython",
    "version": 3
   },
   "file_extension": ".py",
   "mimetype": "text/x-python",
   "name": "python",
   "nbconvert_exporter": "python",
   "pygments_lexer": "ipython3",
   "version": "3.9.7"
  }
 },
 "nbformat": 4,
 "nbformat_minor": 5
}
